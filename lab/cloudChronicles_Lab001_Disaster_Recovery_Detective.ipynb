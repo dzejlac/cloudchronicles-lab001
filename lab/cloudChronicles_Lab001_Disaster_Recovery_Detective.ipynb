{
 "cells": [
  {
   "cell_type": "markdown",
   "id": "0f1e0979",
   "metadata": {},
   "source": [
    "# 🧠 cloudChronicles Lab #001: Disaster Recovery Detective\n",
    "\n",
    "**Lab Type:** Idea  \n",
    "**Estimated Time:** 30–45 mins  \n",
    "**Skill Level:** Beginner"
   ]
  },
  {
   "cell_type": "code",
   "execution_count": null,
   "id": "a97f86ab",
   "metadata": {},
   "outputs": [],
   "source": [
    "# Let's begin by printing your name to personalize the notebook\n",
    "your_name = \"\"\n",
    "print(f\"Welcome to the lab, {Dzejla}!\")"
   ]
  },
  {
   "cell_type": "markdown",
   "id": "0f94d019",
   "metadata": {},
   "source": [
    "## 🔍 STAR Method Lab Prompt\n",
    "\n",
    "**Situation:**  \n",
    "[A regional outage has occurred in Google Cloud's us-central1 region, impacting all services and applications deployed within this region. Our primary production environment is hosted in us-central1, and immediate action is required to restore business continuity..]\n",
    "\n",
    "**Task:**  \n",
    "[Develop a comprehensive disaster recovery plan using Google Cloud tools to ensure minimal downtime and data loss. The plan must detail failover and recovery processes, leveraging Cloud SQL replicas, multi-region Cloud Storage, and Pub/Sub alerts.]\n",
    "\n",
    "**Action:**  \n",
    "[Our disaster recovery strategy focuses on active-passive architecture for critical services, with data replication and automated failover mechanisms.\n",
    "\n",
    "**Expected Result:**  \n",
    "[Reduced RTO (Recovery Time Objective): Minimize the time taken to restore services after a regional outage, potentially to minutes or low hours depending on the service.]"
   ]
  },
  {
   "cell_type": "markdown",
   "id": "397b221d",
   "metadata": {},
   "source": [
    "## ✍️ Your Assignment\n",
    "\n",
    "_Use this section to complete your deliverable:_\n",
    "\n",
    "```markdown\n",
    "(Example Format)\n",
    "\n",
    "- **Primary Region**: us-central1  \n",
    "- **Backup Location**: us-east1  \n",
    "- **Failover Trigger**: Load balancer health check + Pub/Sub alert  \n",
    "- **Redundancy Services**:  \n",
    "   - Cloud SQL with failover  \n",
    "   - Cloud Storage versioning  \n",
    "   - Cloud Functions for health monitoring  \n",
    "- **Backup Schedule**: Every 6 hours, daily export to multi-region bucket  \n",
    "```"
   ]
  }
 ],
 "metadata": {},
 "nbformat": 4,
 "nbformat_minor": 5
}
